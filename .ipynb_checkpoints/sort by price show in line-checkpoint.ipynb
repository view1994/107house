{
 "cells": [
  {
   "cell_type": "code",
   "execution_count": null,
   "metadata": {},
   "outputs": [],
   "source": [
    "import pymongo\n",
    "import charts\n",
    "import re"
   ]
  },
  {
   "cell_type": "code",
   "execution_count": null,
   "metadata": {},
   "outputs": [],
   "source": [
    "client=pymongo.MongoClient('localhost',27017)\n",
    "room107=client['room107']\n",
    "room_info=room107['room_info']\n",
    "url_list=room107['url_list']\n",
    "room_info_saved=room107['room_info_saved']"
   ]
  },
  {
   "cell_type": "code",
   "execution_count": null,
   "metadata": {},
   "outputs": [],
   "source": [
    "print('url_list : '+str(url_list.count()))\n",
    "print('room_info : '+str(room_info.count()))\n",
    "print(room_info.find().limit(3)[0])\n",
    "print('room_info_saved : '+str(room_info_saved.count()))\n",
    "print(room_info_saved.find().limit(3)[0])"
   ]
  },
  {
   "cell_type": "code",
   "execution_count": null,
   "metadata": {},
   "outputs": [],
   "source": [
    "for i in room_info_saved.find():\n",
    "    price=int(i['monthPrice'])\n",
    "    rooms=[int(i['rooms'][1][:-1]),int(i['rooms'][2][:-1]),int(i['rooms'][3][:-1]),int(i['rooms'][4][:-1])]\n",
    "    date=[int(i) for i in re.split('年|月|日',i['date'])[:-1]]\n",
    "    if len(i['area'])==3:\n",
    "        area=int(i['area'][1])\n",
    "        if area>200:\n",
    "            print('big size:')\n",
    "            print(i['area'],i['url'])\n",
    "    elif len(i['area'])==6:\n",
    "        area=[int(i['area'][1]),int(i['area'][4])]\n",
    "    elif len(i['area'])==1:\n",
    "        area=0\n",
    "    elif len(i['area'])==5:\n",
    "        area=[0,int(i['area'][3])]\n",
    "    else:\n",
    "        area=[]\n",
    "        print('area error from '+i['url'])\n",
    "        print(i['area'])\n",
    "    room_info.update({'url':i['url']},{'$set':{'rooms':rooms,'date':date,'area':area,'monthPrice':price}})\n",
    "    "
   ]
  },
  {
   "cell_type": "code",
   "execution_count": null,
   "metadata": {},
   "outputs": [],
   "source": [
    "for i in room_info.find({},{'_id':0,'url':0}).limit(300):\n",
    "    print(i)"
   ]
  },
  {
   "cell_type": "code",
   "execution_count": null,
   "metadata": {},
   "outputs": [],
   "source": []
  },
  {
   "cell_type": "code",
   "execution_count": null,
   "metadata": {},
   "outputs": [],
   "source": []
  },
  {
   "cell_type": "code",
   "execution_count": null,
   "metadata": {},
   "outputs": [],
   "source": []
  }
 ],
 "metadata": {
  "kernelspec": {
   "display_name": "Python 3",
   "language": "python",
   "name": "python3"
  },
  "language_info": {
   "codemirror_mode": {
    "name": "ipython",
    "version": 3
   },
   "file_extension": ".py",
   "mimetype": "text/x-python",
   "name": "python",
   "nbconvert_exporter": "python",
   "pygments_lexer": "ipython3",
   "version": "3.6.3"
  }
 },
 "nbformat": 4,
 "nbformat_minor": 2
}
